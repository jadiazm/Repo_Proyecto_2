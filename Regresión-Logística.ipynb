{
 "cells": [
  {
   "cell_type": "code",
   "execution_count": 51,
   "id": "af9b89ca-b4b7-4915-9f07-440e5bb89a11",
   "metadata": {
    "tags": []
   },
   "outputs": [],
   "source": [
    "import numpy as np\n",
    "import pandas as pd\n",
    "import matplotlib.pyplot as plt\n",
    "from matplotlib import cm"
   ]
  },
  {
   "cell_type": "markdown",
   "id": "f20f4e0e-50a3-454a-ae78-2d5aeb7a3f9f",
   "metadata": {},
   "source": [
    "# Pregunta:\n",
    "## ¿Que tanto influyeron factores de la población como, educación, violencia y participación en las elecciones del senado del año 2019 considerando únicamente al partido Centro Democrático?"
   ]
  },
  {
   "cell_type": "markdown",
   "id": "c2beb172-2a5e-4e11-9a9d-9d1497e0a339",
   "metadata": {},
   "source": [
    "### Partido con mayor votación e índice de abstención por municipio\n",
    "#### Datos obtenidos de Misión de observación electoral (MOE)\n",
    "https://www.datoselectorales.org/datos-y-resultados-electorales/"
   ]
  },
  {
   "cell_type": "code",
   "execution_count": 128,
   "id": "bdf6c85c-edbb-42f2-8aca-a4cc5eb6c5f1",
   "metadata": {},
   "outputs": [
    {
     "name": "stdout",
     "output_type": "stream",
     "text": [
      "Porcentaje de abstención y Ganadores de Elecciones al senado por municipio\n",
      "Número de datos: 1124\n"
     ]
    },
    {
     "data": {
      "text/html": [
       "<div>\n",
       "<style scoped>\n",
       "    .dataframe tbody tr th:only-of-type {\n",
       "        vertical-align: middle;\n",
       "    }\n",
       "\n",
       "    .dataframe tbody tr th {\n",
       "        vertical-align: top;\n",
       "    }\n",
       "\n",
       "    .dataframe thead th {\n",
       "        text-align: right;\n",
       "    }\n",
       "</style>\n",
       "<table border=\"1\" class=\"dataframe\">\n",
       "  <thead>\n",
       "    <tr style=\"text-align: right;\">\n",
       "      <th></th>\n",
       "      <th>Municipio</th>\n",
       "      <th>%Abstención</th>\n",
       "      <th>Ganador</th>\n",
       "    </tr>\n",
       "  </thead>\n",
       "  <tbody>\n",
       "    <tr>\n",
       "      <th>1</th>\n",
       "      <td>Abejorral</td>\n",
       "      <td>0.716650</td>\n",
       "      <td>Centro Democrático</td>\n",
       "    </tr>\n",
       "    <tr>\n",
       "      <th>780</th>\n",
       "      <td>Abrego</td>\n",
       "      <td>0.422288</td>\n",
       "      <td>Cambio Radical</td>\n",
       "    </tr>\n",
       "    <tr>\n",
       "      <th>2</th>\n",
       "      <td>Abriaquí</td>\n",
       "      <td>0.480441</td>\n",
       "      <td>Partido Conservador</td>\n",
       "    </tr>\n",
       "    <tr>\n",
       "      <th>687</th>\n",
       "      <td>Acacías</td>\n",
       "      <td>0.394339</td>\n",
       "      <td>Centro Democrático</td>\n",
       "    </tr>\n",
       "    <tr>\n",
       "      <th>575</th>\n",
       "      <td>Acandí</td>\n",
       "      <td>0.561571</td>\n",
       "      <td>Partido de la U</td>\n",
       "    </tr>\n",
       "  </tbody>\n",
       "</table>\n",
       "</div>"
      ],
      "text/plain": [
       "     Municipio  %Abstención              Ganador\n",
       "1    Abejorral     0.716650   Centro Democrático\n",
       "780     Abrego     0.422288       Cambio Radical\n",
       "2     Abriaquí     0.480441  Partido Conservador\n",
       "687    Acacías     0.394339   Centro Democrático\n",
       "575     Acandí     0.561571      Partido de la U"
      ]
     },
     "execution_count": 128,
     "metadata": {},
     "output_type": "execute_result"
    }
   ],
   "source": [
    "Elecciones = pd.read_excel('MOE-ResultSen2018.Partido-municipio_Datos.xlsx', header=1)\n",
    "Elecciones = Elecciones.drop('Code', 1)\n",
    "\n",
    "Abstención_Municipal = Elecciones[['Municipio','%Abstención','Ganador Circunscripción Nacional']].sort_values(by=['Municipio'])\n",
    "Abstención_Municipal = Abstención_Municipal.rename(columns={'Ganador Circunscripción Nacional': 'Ganador'})\n",
    "print('Porcentaje de abstención y Ganadores de Elecciones al senado por municipio')\n",
    "print('Número de datos: ' + str(len(Abstención_Municipal)))\n",
    "Abstención_Municipal.head()"
   ]
  },
  {
   "cell_type": "markdown",
   "id": "a94bec0f-382c-4e57-83cc-ec8174f8baeb",
   "metadata": {},
   "source": [
    "### Tasa de homicidios por cada 100 mil habitantes en cada municipio\n",
    "#### Datos obtenidos de base de datos de la página de Medicina Legal\n",
    "https://www.medicinalegal.gov.co/documents/20143/388157/1-Homicidios.+Colombia%2C+2018.xlsx/722560a4-2e77-b155-cc08-2ca513dfc7c0"
   ]
  },
  {
   "cell_type": "code",
   "execution_count": 127,
   "id": "e79f29b7-2af5-432d-b9a6-68015889a459",
   "metadata": {},
   "outputs": [
    {
     "name": "stdout",
     "output_type": "stream",
     "text": [
      "Datos de violencia por municipio\n",
      "Número de datos: 765\n"
     ]
    },
    {
     "data": {
      "text/html": [
       "<div>\n",
       "<style scoped>\n",
       "    .dataframe tbody tr th:only-of-type {\n",
       "        vertical-align: middle;\n",
       "    }\n",
       "\n",
       "    .dataframe tbody tr th {\n",
       "        vertical-align: top;\n",
       "    }\n",
       "\n",
       "    .dataframe thead th {\n",
       "        text-align: right;\n",
       "    }\n",
       "</style>\n",
       "<table border=\"1\" class=\"dataframe\">\n",
       "  <thead>\n",
       "    <tr style=\"text-align: right;\">\n",
       "      <th></th>\n",
       "      <th>Municipio</th>\n",
       "      <th>Homicidios</th>\n",
       "    </tr>\n",
       "  </thead>\n",
       "  <tbody>\n",
       "    <tr>\n",
       "      <th>4</th>\n",
       "      <td>Abejorral</td>\n",
       "      <td>21.062609</td>\n",
       "    </tr>\n",
       "    <tr>\n",
       "      <th>536</th>\n",
       "      <td>Acacías</td>\n",
       "      <td>16.295492</td>\n",
       "    </tr>\n",
       "    <tr>\n",
       "      <th>338</th>\n",
       "      <td>Acandí</td>\n",
       "      <td>64.274237</td>\n",
       "    </tr>\n",
       "    <tr>\n",
       "      <th>466</th>\n",
       "      <td>Acevedo</td>\n",
       "      <td>25.635913</td>\n",
       "    </tr>\n",
       "    <tr>\n",
       "      <th>146</th>\n",
       "      <td>Achí</td>\n",
       "      <td>4.122181</td>\n",
       "    </tr>\n",
       "  </tbody>\n",
       "</table>\n",
       "</div>"
      ],
      "text/plain": [
       "     Municipio Homicidios\n",
       "4    Abejorral  21.062609\n",
       "536    Acacías  16.295492\n",
       "338     Acandí  64.274237\n",
       "466    Acevedo  25.635913\n",
       "146       Achí   4.122181"
      ]
     },
     "execution_count": 127,
     "metadata": {},
     "output_type": "execute_result"
    }
   ],
   "source": [
    "Homicidios = pd.read_excel('Homicidios-Municipios.xlsx', header=1)#, index_col=1)\n",
    "Homicidios = Homicidios.iloc[:-9,[0,1,-6]]\n",
    "Homicidios = Homicidios.rename(columns={'CÓDIGOS': 'Codigo', \n",
    "                                        'SEXO, NÚMERO DE CASOS Y TASAS POR 100.000 HABITANTES': 'Municipio', \n",
    "                                        'Tasas Totales x 100.000 Hab.':'Homicidios'})\n",
    "Homicidios_Municipal = Homicidios[Homicidios['Codigo']>1000]\n",
    "Homicidios_Municipal = Homicidios_Municipal.sort_values(by=['Municipio'])[['Municipio','Homicidios']]\n",
    "print('Datos de violencia por municipio')\n",
    "print('Número de datos: ' + str(len(Homicidios_Municipal)))\n",
    "Homicidios_Municipal.head()"
   ]
  },
  {
   "cell_type": "markdown",
   "id": "0a924ad3-92b4-4ca1-859a-555e78569627",
   "metadata": {},
   "source": [
    "### Puntaje promedio por municipio obtenido en las pruebas Saber11 en el año 2019\n",
    "#### Datos obtenidos de base de datos del gobierno\n",
    "https://www.datos.gov.co/Educaci-n/PUNTAJE-ICFES-POR-DEPARTAMENTOS/x9vi-iv8c"
   ]
  },
  {
   "cell_type": "code",
   "execution_count": 129,
   "id": "5a4ed314-8c69-4fdd-b0cd-0ca338eaabaf",
   "metadata": {},
   "outputs": [
    {
     "name": "stderr",
     "output_type": "stream",
     "text": [
      "C:\\Users\\Jonathan Diaz\\anaconda3\\lib\\site-packages\\IPython\\core\\interactiveshell.py:3165: DtypeWarning: Columns (76,78) have mixed types.Specify dtype option on import or set low_memory=False.\n",
      "  has_raised = await self.run_ast_nodes(code_ast.body, cell_name,\n"
     ]
    },
    {
     "name": "stdout",
     "output_type": "stream",
     "text": [
      "Puntaje promedio pruebas Saber11 años 2019 por municipio\n",
      "Número de datos: 1031\n"
     ]
    },
    {
     "data": {
      "text/html": [
       "<div>\n",
       "<style scoped>\n",
       "    .dataframe tbody tr th:only-of-type {\n",
       "        vertical-align: middle;\n",
       "    }\n",
       "\n",
       "    .dataframe tbody tr th {\n",
       "        vertical-align: top;\n",
       "    }\n",
       "\n",
       "    .dataframe thead th {\n",
       "        text-align: right;\n",
       "    }\n",
       "</style>\n",
       "<table border=\"1\" class=\"dataframe\">\n",
       "  <thead>\n",
       "    <tr style=\"text-align: right;\">\n",
       "      <th></th>\n",
       "      <th>Municipio</th>\n",
       "      <th>Puntaje</th>\n",
       "    </tr>\n",
       "  </thead>\n",
       "  <tbody>\n",
       "    <tr>\n",
       "      <th>0</th>\n",
       "      <td>Abejorral</td>\n",
       "      <td>234.222798</td>\n",
       "    </tr>\n",
       "    <tr>\n",
       "      <th>1</th>\n",
       "      <td>Abriaquí</td>\n",
       "      <td>219.088235</td>\n",
       "    </tr>\n",
       "    <tr>\n",
       "      <th>2</th>\n",
       "      <td>Acacías</td>\n",
       "      <td>255.321721</td>\n",
       "    </tr>\n",
       "    <tr>\n",
       "      <th>3</th>\n",
       "      <td>Acandí</td>\n",
       "      <td>196.428571</td>\n",
       "    </tr>\n",
       "    <tr>\n",
       "      <th>4</th>\n",
       "      <td>Acevedo</td>\n",
       "      <td>239.872093</td>\n",
       "    </tr>\n",
       "  </tbody>\n",
       "</table>\n",
       "</div>"
      ],
      "text/plain": [
       "   Municipio     Puntaje\n",
       "0  Abejorral  234.222798\n",
       "1   Abriaquí  219.088235\n",
       "2    Acacías  255.321721\n",
       "3     Acandí  196.428571\n",
       "4    Acevedo  239.872093"
      ]
     },
     "execution_count": 129,
     "metadata": {},
     "output_type": "execute_result"
    }
   ],
   "source": [
    "Saber11 = pd.read_csv('Saber_11__2019-2.csv')\n",
    "Saber11 = Saber11[['ESTU_MCPIO_RESIDE','PUNT_GLOBAL']]\n",
    "Saber11 = Saber11.rename(columns={'ESTU_MCPIO_RESIDE': 'Municipio', 'PUNT_GLOBAL':'Puntaje'})\n",
    "\n",
    "Saber11_Municipal = Saber11.groupby(by=[\"Municipio\"]).mean()\n",
    "Saber11_Municipal = Saber11_Municipal.reset_index().sort_values(by=['Municipio'])\n",
    "def capital(palabra):\n",
    "    return palabra.capitalize()\n",
    "Saber11_Municipal['Municipio'] = Saber11_Municipal['Municipio'].apply(capital)\n",
    "print('Puntaje promedio pruebas Saber11 años 2019 por municipio')\n",
    "print('Número de datos: ' + str(len(Saber11_Municipal)))\n",
    "Saber11_Municipal.head()"
   ]
  },
  {
   "cell_type": "markdown",
   "id": "407b4e10-bd6a-4657-b8fe-b2afd3ecdb08",
   "metadata": {},
   "source": [
    "# Entrenamiento del modelo usando Regresión Logística"
   ]
  },
  {
   "cell_type": "code",
   "execution_count": 105,
   "id": "bd3abede-f4ae-47ad-8f33-485f182ee01f",
   "metadata": {},
   "outputs": [
    {
     "name": "stdout",
     "output_type": "stream",
     "text": [
      "Número de datos: 632\n"
     ]
    },
    {
     "data": {
      "text/html": [
       "<div>\n",
       "<style scoped>\n",
       "    .dataframe tbody tr th:only-of-type {\n",
       "        vertical-align: middle;\n",
       "    }\n",
       "\n",
       "    .dataframe tbody tr th {\n",
       "        vertical-align: top;\n",
       "    }\n",
       "\n",
       "    .dataframe thead th {\n",
       "        text-align: right;\n",
       "    }\n",
       "</style>\n",
       "<table border=\"1\" class=\"dataframe\">\n",
       "  <thead>\n",
       "    <tr style=\"text-align: right;\">\n",
       "      <th></th>\n",
       "      <th>%Abstención</th>\n",
       "      <th>Ganador</th>\n",
       "      <th>Homicidios</th>\n",
       "      <th>Puntaje</th>\n",
       "    </tr>\n",
       "    <tr>\n",
       "      <th>Municipio</th>\n",
       "      <th></th>\n",
       "      <th></th>\n",
       "      <th></th>\n",
       "      <th></th>\n",
       "    </tr>\n",
       "  </thead>\n",
       "  <tbody>\n",
       "    <tr>\n",
       "      <th>Abejorral</th>\n",
       "      <td>0.716650</td>\n",
       "      <td>1</td>\n",
       "      <td>21.062609</td>\n",
       "      <td>234.222798</td>\n",
       "    </tr>\n",
       "    <tr>\n",
       "      <th>Acacías</th>\n",
       "      <td>0.394339</td>\n",
       "      <td>1</td>\n",
       "      <td>16.295492</td>\n",
       "      <td>255.321721</td>\n",
       "    </tr>\n",
       "    <tr>\n",
       "      <th>Acandí</th>\n",
       "      <td>0.561571</td>\n",
       "      <td>0</td>\n",
       "      <td>64.274237</td>\n",
       "      <td>196.428571</td>\n",
       "    </tr>\n",
       "    <tr>\n",
       "      <th>Acevedo</th>\n",
       "      <td>0.509628</td>\n",
       "      <td>0</td>\n",
       "      <td>25.635913</td>\n",
       "      <td>239.872093</td>\n",
       "    </tr>\n",
       "    <tr>\n",
       "      <th>Achí</th>\n",
       "      <td>0.361792</td>\n",
       "      <td>0</td>\n",
       "      <td>4.122181</td>\n",
       "      <td>207.709163</td>\n",
       "    </tr>\n",
       "  </tbody>\n",
       "</table>\n",
       "</div>"
      ],
      "text/plain": [
       "           %Abstención  Ganador Homicidios     Puntaje\n",
       "Municipio                                             \n",
       "Abejorral     0.716650        1  21.062609  234.222798\n",
       "Acacías       0.394339        1  16.295492  255.321721\n",
       "Acandí        0.561571        0  64.274237  196.428571\n",
       "Acevedo       0.509628        0  25.635913  239.872093\n",
       "Achí          0.361792        0   4.122181  207.709163"
      ]
     },
     "execution_count": 105,
     "metadata": {},
     "output_type": "execute_result"
    }
   ],
   "source": [
    "Datos = Abstención_Municipal.join(Homicidios_Municipal.set_index('Municipio'), on='Municipio')\n",
    "Datos = Datos.join(Saber11_Municipal.set_index('Municipio'), on='Municipio')\n",
    "Datos = Datos.dropna()\n",
    "Datos = Datos.set_index('Municipio')\n",
    "Datos['Ganador'] = Datos['Ganador'].apply(lambda x: 1 if x == 'Centro Democrático' else 0)\n",
    "print('Número de datos: ' + str(len(Datos)))\n",
    "Datos.head()"
   ]
  },
  {
   "cell_type": "code",
   "execution_count": 130,
   "id": "06f17a5c-aa30-4623-9db7-e7fde6ea7f30",
   "metadata": {},
   "outputs": [
    {
     "name": "stdout",
     "output_type": "stream",
     "text": [
      "Número de datos de entrenamiento: 474\n",
      "Número de datos de testeo: 158\n"
     ]
    }
   ],
   "source": [
    "from sklearn.linear_model import LogisticRegression\n",
    "from sklearn.model_selection import train_test_split\n",
    "\n",
    "X = Datos[['%Abstención','Homicidios','Puntaje']]\n",
    "y = Datos['Ganador']\n",
    "\n",
    "X_train, X_test, y_train, y_test = train_test_split(X, y, random_state = 0)\n",
    "modelo = LogisticRegression().fit(X_train, y_train)\n",
    "print('Número de datos de entrenamiento: ' + str(len(X_train)))\n",
    "print('Número de datos de testeo: ' + str(len(X_test)))"
   ]
  },
  {
   "cell_type": "code",
   "execution_count": 142,
   "id": "34d97d0a-4353-4a17-90e7-a9602b2bf122",
   "metadata": {},
   "outputs": [
    {
     "name": "stdout",
     "output_type": "stream",
     "text": [
      "Clases: 0 y 1\n",
      "Coeficientes: 1.205, -0.003, 0.044\n",
      "Intercepto: -12.388\n"
     ]
    }
   ],
   "source": [
    "print('Clases: ' + str(modelo.classes_[0]) + ' y ' + str(modelo.classes_[1]))\n",
    "print('Coeficientes: ' + str(round(modelo.coef_[0,0], 3)) + ', ' + str(round(modelo.coef_[0,1], 3)) + ', ' + str(round(modelo.coef_[0,2],3)))\n",
    "print('Intercepto: ' + str(round(modelo.intercept_[0],3)))"
   ]
  },
  {
   "cell_type": "markdown",
   "id": "a0cf0f7e",
   "metadata": {},
   "source": [
    "## Resultados"
   ]
  },
  {
   "cell_type": "code",
   "execution_count": 158,
   "id": "af519620-6f71-4f9d-b863-9b9e71969c7f",
   "metadata": {},
   "outputs": [
    {
     "name": "stdout",
     "output_type": "stream",
     "text": [
      "Si gana el Centro Democrático\n",
      "Precision:   0.25\n",
      "Recall:   0.033\n",
      "F1:   0.059\n",
      "\n",
      "\n",
      "No gana el Centro Democrático\n",
      "Precision:   0.812\n",
      "Recall:   0.977\n",
      "F1:   0.887\n"
     ]
    }
   ],
   "source": [
    "import sklearn.metrics\n",
    "from sklearn.metrics import confusion_matrix, precision_score, recall_score, f1_score\n",
    "\n",
    "y_predict = modelo.predict(X_test)\n",
    "\n",
    "print('Si gana el Centro Democrático')\n",
    "print('Precision:  ', round(precision_score(y_test, y_predict, pos_label=1),3))\n",
    "print('Recall:  ', round(recall_score(y_test, y_predict, pos_label=1),3))\n",
    "print('F1:  ', round(f1_score(y_test, y_predict, pos_label=1),3))\n",
    "print('\\n')\n",
    "\n",
    "print('No gana el Centro Democrático')\n",
    "print('Precision:  ', round(precision_score(y_test, y_predict, pos_label=0),3)) \n",
    "print('Recall:  ', round(recall_score(y_test, y_predict, pos_label=0),3))\n",
    "print('F1:  ', round(f1_score(y_test, y_predict, pos_label=0),3))"
   ]
  }
 ],
 "metadata": {
  "kernelspec": {
   "display_name": "Python 3",
   "language": "python",
   "name": "python3"
  },
  "language_info": {
   "codemirror_mode": {
    "name": "ipython",
    "version": 3
   },
   "file_extension": ".py",
   "mimetype": "text/x-python",
   "name": "python",
   "nbconvert_exporter": "python",
   "pygments_lexer": "ipython3",
   "version": "3.8.8"
  }
 },
 "nbformat": 4,
 "nbformat_minor": 5
}
